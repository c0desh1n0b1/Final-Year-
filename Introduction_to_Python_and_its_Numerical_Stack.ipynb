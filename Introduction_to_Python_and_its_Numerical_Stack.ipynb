{
  "nbformat": 4,
  "nbformat_minor": 0,
  "metadata": {
    "anaconda-cloud": {},
    "kernelspec": {
      "display_name": "Python 3",
      "language": "python",
      "name": "python3"
    },
    "language_info": {
      "codemirror_mode": {
        "name": "ipython",
        "version": 3
      },
      "file_extension": ".py",
      "mimetype": "text/x-python",
      "name": "python",
      "nbconvert_exporter": "python",
      "pygments_lexer": "ipython3",
      "version": "3.6.8"
    },
    "colab": {
      "name": "Introduction to Python and its Numerical Stack.ipynb",
      "provenance": [],
      "collapsed_sections": [
        "9gyjj8Er7CMw",
        "fmtHzdxr7CM2",
        "B5ZKxqsO7CM2",
        "GKNdrck67CM3",
        "LMDGb--a7CM3",
        "6v5XBesu7CM4",
        "czuPpBpY7CM_",
        "veD8u1BA7CNe",
        "-HkkyRCu7CNo",
        "VvF9TmfR7COA",
        "-Cfw0gox7COI",
        "ag9icGME7COV",
        "JJzP4P2o7COY",
        "I-OQaRii7COd",
        "qAyv8CAL7CPk"
      ],
      "include_colab_link": true
    }
  },
  "cells": [
    {
      "cell_type": "markdown",
      "metadata": {
        "id": "view-in-github",
        "colab_type": "text"
      },
      "source": [
        "<a href=\"https://colab.research.google.com/github/c0desh1n0b1/Final-Year-/blob/Introduction-to-numpy/Introduction_to_Python_and_its_Numerical_Stack.ipynb\" target=\"_parent\"><img src=\"https://colab.research.google.com/assets/colab-badge.svg\" alt=\"Open In Colab\"/></a>"
      ]
    },
    {
      "cell_type": "markdown",
      "metadata": {
        "id": "-N_RYbcA9VjM"
      },
      "source": [
        "<img src='https://drive.google.com/uc?id=1tqYIvII8lJ_FnqE6ugS21n4s93kMwTLy' />"
      ]
    },
    {
      "cell_type": "markdown",
      "metadata": {
        "id": "9gyjj8Er7CMw"
      },
      "source": [
        "## Machine Learning\n",
        "## School of Computing and Engineering, University of West London\n",
        "## Massoud Zolgharni\n",
        "\n",
        "\n"
      ]
    },
    {
      "cell_type": "markdown",
      "metadata": {
        "id": "wWH3TuyjGJfr"
      },
      "source": [
        "# Tutorial: Introduction to Python and its Numerical Stack\n",
        "\n"
      ]
    },
    {
      "cell_type": "markdown",
      "metadata": {
        "id": "fmtHzdxr7CM2"
      },
      "source": [
        "## Programming Expectations\n",
        "All assignments for this module will use Python and the browser-based iPython notebook format you are currently viewing. Besdies this tutorial, there are also many introductory tutorials to help build programming skills."
      ]
    },
    {
      "cell_type": "markdown",
      "metadata": {
        "id": "B5ZKxqsO7CM2"
      },
      "source": [
        "## Table of Contents \n",
        "<ol start=\"0\">\n",
        "<li> Learning Goals </li>\n",
        "<li> Getting Started</li>\n",
        "<li> Lists </li>\n",
        "<li> Simple Functions </li>\n",
        "<li> Additional support </li>\n",
        "</ol>"
      ]
    },
    {
      "cell_type": "markdown",
      "metadata": {
        "id": "GKNdrck67CM3"
      },
      "source": [
        "## Learning Goals \n",
        "This introductory session is a condensed introduction to Python numerical programming.  By the end of this session, you will feel more comfortable:\n",
        "\n",
        "- Writing short Python code using functions, loops, lists, numpy arrays, and dictionaries.\n",
        "\n",
        "- Manipulating Python lists and numpy arrays and understanding the difference between them.\n",
        "\n",
        "- Using probability distributions from `scipy.stats`\n",
        "\n",
        "- Making very simple plots using `matplotlib`\n",
        "\n",
        "- Reading and writing CSV files using `pandas`\n",
        "\n",
        "- Learning and reading Python documentation. "
      ]
    },
    {
      "cell_type": "markdown",
      "metadata": {
        "id": "LMDGb--a7CM3"
      },
      "source": [
        "## Part 1: Getting Started"
      ]
    },
    {
      "cell_type": "markdown",
      "metadata": {
        "id": "6v5XBesu7CM4"
      },
      "source": [
        "### Importing modules\n",
        "All notebooks should begin with code that imports *modules*, collections of built-in, commonly-used Python functions.  Below we import the Numpy module, a fast numerical programming library for scientific computing.  Future tutorials will require additional modules, which we'll import with the same `import MODULE_NAME as MODULE_NICKNAME` syntax."
      ]
    },
    {
      "cell_type": "code",
      "metadata": {
        "id": "F3mDyooX7CM4"
      },
      "source": [
        "import numpy as np #imports a fast numerical programming library"
      ],
      "execution_count": null,
      "outputs": []
    },
    {
      "cell_type": "markdown",
      "metadata": {
        "id": "2wL-l5BT7CM7"
      },
      "source": [
        "Now that Numpy has been imported, we can access some useful functions.  For example, we can use `mean` to calculate the mean of a set of numbers."
      ]
    },
    {
      "cell_type": "code",
      "metadata": {
        "id": "ut444cdH7CM7",
        "colab": {
          "base_uri": "https://localhost:8080/",
          "height": 35
        },
        "outputId": "47233d84-8cb4-4b88-80fc-3430f5077892"
      },
      "source": [
        "np.mean([1.2, 2, 3.3])"
      ],
      "execution_count": null,
      "outputs": [
        {
          "output_type": "execute_result",
          "data": {
            "text/plain": [
              "2.1666666666666665"
            ]
          },
          "metadata": {
            "tags": []
          },
          "execution_count": 2
        }
      ]
    },
    {
      "cell_type": "markdown",
      "metadata": {
        "id": "YbEb0hjS7CM-"
      },
      "source": [
        "to calculate the mean of 1.2, 2, and 3.3."
      ]
    },
    {
      "cell_type": "markdown",
      "metadata": {
        "id": "czuPpBpY7CM_"
      },
      "source": [
        "### Calculations and variables"
      ]
    },
    {
      "cell_type": "code",
      "metadata": {
        "id": "D0xUZlEQ7CM_",
        "colab": {
          "base_uri": "https://localhost:8080/",
          "height": 35
        },
        "outputId": "391a3471-d3dc-4c48-dace-5d62f7673afd"
      },
      "source": [
        "# // is integer division\n",
        "1/2, 1//2, 1.0/2.0, 3*3.2"
      ],
      "execution_count": null,
      "outputs": [
        {
          "output_type": "execute_result",
          "data": {
            "text/plain": [
              "(0.5, 0, 0.5, 9.600000000000001)"
            ]
          },
          "metadata": {
            "tags": []
          },
          "execution_count": 3
        }
      ]
    },
    {
      "cell_type": "markdown",
      "metadata": {
        "id": "EhiKvoP07CNB"
      },
      "source": [
        "The last line in a cell is returned as the output value, as above.  For cells with multiple lines of results, we can display results using ``print``, as can be seen below."
      ]
    },
    {
      "cell_type": "code",
      "metadata": {
        "id": "NCC_Da7_7CNC",
        "colab": {
          "base_uri": "https://localhost:8080/",
          "height": 72
        },
        "outputId": "e48b8860-8129-4f32-81df-fc8c5bb7db21"
      },
      "source": [
        "print(1 + 3.0, \"\\n\", 9, 7)\n",
        "5/3"
      ],
      "execution_count": null,
      "outputs": [
        {
          "output_type": "stream",
          "text": [
            "4.0 \n",
            " 9 7\n"
          ],
          "name": "stdout"
        },
        {
          "output_type": "execute_result",
          "data": {
            "text/plain": [
              "1.6666666666666667"
            ]
          },
          "metadata": {
            "tags": []
          },
          "execution_count": 4
        }
      ]
    },
    {
      "cell_type": "markdown",
      "metadata": {
        "id": "WH1poiui7CNF"
      },
      "source": [
        "We can store integer or floating point values as variables.  The other basic Python data types -- booleans, strings, lists -- can also be stored as variables. "
      ]
    },
    {
      "cell_type": "code",
      "metadata": {
        "id": "E9bu8cFI7CNF"
      },
      "source": [
        "a = 1\n",
        "b = 2.0"
      ],
      "execution_count": null,
      "outputs": []
    },
    {
      "cell_type": "markdown",
      "metadata": {
        "id": "_rQ92LTQ7CNH"
      },
      "source": [
        "Here is the storing of a list (more about what a list is later):"
      ]
    },
    {
      "cell_type": "code",
      "metadata": {
        "id": "54A3-H0c7CNI"
      },
      "source": [
        "a = [1, 2, 3]"
      ],
      "execution_count": null,
      "outputs": []
    },
    {
      "cell_type": "markdown",
      "metadata": {
        "id": "NnW8si3W7CNK"
      },
      "source": [
        "Think of a variable as a label for a value, not a box in which you put the value\n",
        "\n",
        "<img src='https://drive.google.com/uc?id=1oXbunCE2Arz5zyY1LmD4-taVha8Be6HV' />"
      ]
    },
    {
      "cell_type": "code",
      "metadata": {
        "id": "aUnZmUJr7CNK",
        "colab": {
          "base_uri": "https://localhost:8080/",
          "height": 35
        },
        "outputId": "7d39a7be-6a58-4e4c-bee1-0d7af0ebd736"
      },
      "source": [
        "b = a\n",
        "b"
      ],
      "execution_count": null,
      "outputs": [
        {
          "output_type": "execute_result",
          "data": {
            "text/plain": [
              "[1, 2, 3]"
            ]
          },
          "metadata": {
            "tags": []
          },
          "execution_count": 7
        }
      ]
    },
    {
      "cell_type": "markdown",
      "metadata": {
        "id": "Ykw8mDC87CNM"
      },
      "source": [
        "This DOES NOT create a new copy of `a`. It merely puts a new label on the memory at a, as can be seen by the following code:"
      ]
    },
    {
      "cell_type": "code",
      "metadata": {
        "id": "iGe8lBUf7CNN",
        "colab": {
          "base_uri": "https://localhost:8080/",
          "height": 90
        },
        "outputId": "c6c860c8-2ed2-4e13-cc52-c0bc6005d038"
      },
      "source": [
        "print(\"a\", a)\n",
        "print(\"b\", b)\n",
        "a[1] = 7\n",
        "print(\"a after change\", a)\n",
        "print(\"b after change\", b)"
      ],
      "execution_count": null,
      "outputs": [
        {
          "output_type": "stream",
          "text": [
            "a [1, 2, 3]\n",
            "b [1, 2, 3]\n",
            "a after change [1, 7, 3]\n",
            "b after change [1, 7, 3]\n"
          ],
          "name": "stdout"
        }
      ]
    },
    {
      "cell_type": "markdown",
      "metadata": {
        "id": "GppzbmtD7CNU"
      },
      "source": [
        "**Tuples**\n",
        "\n",
        "Multiple items on one line in the interface are returned as a *tuple*, an immutable sequence of Python objects."
      ]
    },
    {
      "cell_type": "code",
      "metadata": {
        "id": "_ywSVB497CNU",
        "colab": {
          "base_uri": "https://localhost:8080/",
          "height": 35
        },
        "outputId": "d9c3b5c0-4ff5-4672-8222-ae941b4ff204"
      },
      "source": [
        "a = 1\n",
        "b = 2.0\n",
        "a + a, a - b, b * b, 10*a"
      ],
      "execution_count": null,
      "outputs": [
        {
          "output_type": "execute_result",
          "data": {
            "text/plain": [
              "(2, -1.0, 4.0, 10)"
            ]
          },
          "metadata": {
            "tags": []
          },
          "execution_count": 9
        }
      ]
    },
    {
      "cell_type": "markdown",
      "metadata": {
        "id": "loYYRxXk7CNW"
      },
      "source": [
        "We can obtain the type of a variable, and use boolean comparisons to test these types. "
      ]
    },
    {
      "cell_type": "code",
      "metadata": {
        "id": "ZqWsvdt67CNW",
        "colab": {
          "base_uri": "https://localhost:8080/",
          "height": 35
        },
        "outputId": "ecd110a7-b82a-4264-ac20-1c7685ce7f45"
      },
      "source": [
        "type(a) == float"
      ],
      "execution_count": null,
      "outputs": [
        {
          "output_type": "execute_result",
          "data": {
            "text/plain": [
              "False"
            ]
          },
          "metadata": {
            "tags": []
          },
          "execution_count": 10
        }
      ]
    },
    {
      "cell_type": "code",
      "metadata": {
        "id": "VxqR8JcC7CNZ",
        "colab": {
          "base_uri": "https://localhost:8080/",
          "height": 35
        },
        "outputId": "215dc83b-d04f-4b9d-ceda-0aca3845ae70"
      },
      "source": [
        "type(a) == int"
      ],
      "execution_count": null,
      "outputs": [
        {
          "output_type": "execute_result",
          "data": {
            "text/plain": [
              "True"
            ]
          },
          "metadata": {
            "tags": []
          },
          "execution_count": 11
        }
      ]
    },
    {
      "cell_type": "markdown",
      "metadata": {
        "id": "aeKW5_NQ7CNb"
      },
      "source": [
        "For reference, below are common arithmetic and comparison operations.\n",
        "\n",
        "<figure>\n",
        "<left>\n",
        "<img src='https://drive.google.com/uc?id=1YtsY9uc6xfNvBvVsfx6Xwnh_S8MsLAAG' />\n",
        "</figure>\n",
        "\n",
        "\n",
        "<figure>\n",
        "<right>\n",
        "<img src='https://drive.google.com/uc?id=1PXSZjRlqNBJLmDK1U6wRDtyRyVPDqzFh' />\n",
        "</figure>"
      ]
    },
    {
      "cell_type": "markdown",
      "metadata": {
        "id": "veD8u1BA7CNe"
      },
      "source": [
        "## Part 2: Lists\n",
        "\n",
        "Much of Python is based on the notion of a list.  In Python, a list is a sequence of items separated by commas, all within square brackets.  The items can be integers, floating points, or another type.  Unlike in C arrays, items in a Python list can be different types, so Python lists are more versatile than traditional arrays in C or in other languages. \n",
        "\n",
        "Let's start out by creating a few lists.  "
      ]
    },
    {
      "cell_type": "code",
      "metadata": {
        "id": "xXy31ezN7CNf",
        "colab": {
          "base_uri": "https://localhost:8080/",
          "height": 68
        },
        "outputId": "200b784d-d470-48aa-9603-9d21b00fff0b"
      },
      "source": [
        "empty_list = []\n",
        "float_list = [1., 3., 5., 4., 2.]\n",
        "int_list = [1, 2, 3, 4, 5, 6, 7, 8, 9, 10]\n",
        "mixed_list = [1, 2., 3, 4., 5]\n",
        "print(empty_list)\n",
        "print(int_list)\n",
        "print(mixed_list, float_list)"
      ],
      "execution_count": null,
      "outputs": [
        {
          "output_type": "stream",
          "text": [
            "[]\n",
            "[1, 2, 3, 4, 5, 6, 7, 8, 9, 10]\n",
            "[1, 2.0, 3, 4.0, 5] [1.0, 3.0, 5.0, 4.0, 2.0]\n"
          ],
          "name": "stdout"
        }
      ]
    },
    {
      "cell_type": "markdown",
      "metadata": {
        "id": "P3gAIkow7CNh"
      },
      "source": [
        "Lists in Python are zero-indexed, as in C.  The first entry of the list has index 0, the second has index 1, and so on."
      ]
    },
    {
      "cell_type": "code",
      "metadata": {
        "id": "jzLD5MfL7CNi",
        "colab": {
          "base_uri": "https://localhost:8080/",
          "height": 51
        },
        "outputId": "186a0257-52bf-4f01-b509-816d40689c1c"
      },
      "source": [
        "print(int_list[0])\n",
        "print(float_list[1])"
      ],
      "execution_count": null,
      "outputs": [
        {
          "output_type": "stream",
          "text": [
            "1\n",
            "3.0\n"
          ],
          "name": "stdout"
        }
      ]
    },
    {
      "cell_type": "markdown",
      "metadata": {
        "id": "Lvyafg7Q7CNj"
      },
      "source": [
        "What happens if we try to use an index that doesn't exist for that list?  Python will complain!"
      ]
    },
    {
      "cell_type": "code",
      "metadata": {
        "id": "akgBS86p7CNk",
        "colab": {
          "base_uri": "https://localhost:8080/",
          "height": 163
        },
        "outputId": "5a90a418-f0a8-43ac-b601-0cb7e366bf2f"
      },
      "source": [
        "print(float_list[10])"
      ],
      "execution_count": null,
      "outputs": [
        {
          "output_type": "error",
          "ename": "IndexError",
          "evalue": "ignored",
          "traceback": [
            "\u001b[0;31m---------------------------------------------------------------------------\u001b[0m",
            "\u001b[0;31mIndexError\u001b[0m                                Traceback (most recent call last)",
            "\u001b[0;32m<ipython-input-14-0138b2c321c5>\u001b[0m in \u001b[0;36m<module>\u001b[0;34m()\u001b[0m\n\u001b[0;32m----> 1\u001b[0;31m \u001b[0mprint\u001b[0m\u001b[0;34m(\u001b[0m\u001b[0mfloat_list\u001b[0m\u001b[0;34m[\u001b[0m\u001b[0;36m10\u001b[0m\u001b[0;34m]\u001b[0m\u001b[0;34m)\u001b[0m\u001b[0;34m\u001b[0m\u001b[0;34m\u001b[0m\u001b[0m\n\u001b[0m",
            "\u001b[0;31mIndexError\u001b[0m: list index out of range"
          ]
        }
      ]
    },
    {
      "cell_type": "markdown",
      "metadata": {
        "id": "TUaRFrFA7CNm"
      },
      "source": [
        "You can find the length of a list using the builtin function `len`:"
      ]
    },
    {
      "cell_type": "code",
      "metadata": {
        "id": "rrejgWqK7CNm"
      },
      "source": [
        "print(float_list)\n",
        "len(float_list)"
      ],
      "execution_count": null,
      "outputs": []
    },
    {
      "cell_type": "markdown",
      "metadata": {
        "id": "-HkkyRCu7CNo"
      },
      "source": [
        "### Indexing on lists"
      ]
    },
    {
      "cell_type": "markdown",
      "metadata": {
        "id": "vN9o8hTJ7CNp"
      },
      "source": [
        "And since Python is zero-indexed, the last element of `float_list` is"
      ]
    },
    {
      "cell_type": "code",
      "metadata": {
        "id": "gkoNBzQI7CNp"
      },
      "source": [
        "float_list[len(float_list)-1]"
      ],
      "execution_count": null,
      "outputs": []
    },
    {
      "cell_type": "markdown",
      "metadata": {
        "id": "9p-Amav07CNr"
      },
      "source": [
        "It is more idiomatic in python to use -1 for the last element, -2 for the second last, and so on"
      ]
    },
    {
      "cell_type": "code",
      "metadata": {
        "id": "z98wPfjD7CNs"
      },
      "source": [
        "float_list[-1]"
      ],
      "execution_count": null,
      "outputs": []
    },
    {
      "cell_type": "markdown",
      "metadata": {
        "id": "xtpvKTaW7CNu"
      },
      "source": [
        "We can use the ``:`` operator to access a subset of the list.  This is called *slicing.* "
      ]
    },
    {
      "cell_type": "code",
      "metadata": {
        "id": "NasBv4wH7CNv"
      },
      "source": [
        "print(float_list[1:5])\n",
        "print(float_list[0:2])"
      ],
      "execution_count": null,
      "outputs": []
    },
    {
      "cell_type": "markdown",
      "metadata": {
        "id": "PoyiXur_7CNx"
      },
      "source": [
        "Below is a summary of list slicing operations:\n",
        "\n",
        "<img src='https://drive.google.com/uc?id=1N2DaYVLWRQelpEOFx501FufarJwttBvA'/>"
      ]
    },
    {
      "cell_type": "markdown",
      "metadata": {
        "id": "eM66NAkZ7CNx"
      },
      "source": [
        "You can slice \"backwards\" as well:"
      ]
    },
    {
      "cell_type": "code",
      "metadata": {
        "id": "O9-YNo3T7CNy"
      },
      "source": [
        "float_list[:-2] # up to second last"
      ],
      "execution_count": null,
      "outputs": []
    },
    {
      "cell_type": "code",
      "metadata": {
        "id": "XLxvHCH77CNz"
      },
      "source": [
        "float_list[:4] # up to but not including 5th element"
      ],
      "execution_count": null,
      "outputs": []
    },
    {
      "cell_type": "markdown",
      "metadata": {
        "id": "jGIY-LBU7CN1"
      },
      "source": [
        "You can also slice with a stride:"
      ]
    },
    {
      "cell_type": "code",
      "metadata": {
        "id": "N02tLx8f7CN2"
      },
      "source": [
        "float_list[:4:2] # above but skipping every second element"
      ],
      "execution_count": null,
      "outputs": []
    },
    {
      "cell_type": "markdown",
      "metadata": {
        "id": "mVkOiW3V7CN3"
      },
      "source": [
        "We can iterate through a list using a loop.  Here's a for loop."
      ]
    },
    {
      "cell_type": "code",
      "metadata": {
        "id": "eDMqSgga7CN4"
      },
      "source": [
        "for ele in float_list:\n",
        "    print(ele)"
      ],
      "execution_count": null,
      "outputs": []
    },
    {
      "cell_type": "markdown",
      "metadata": {
        "id": "vtC-Nu9-7CN5"
      },
      "source": [
        "Or, if we like, we can iterate through a list using the indices using a for loop with  `in range`. This is not idiomatic and is not recommended, but accomplishes the same thing as above."
      ]
    },
    {
      "cell_type": "code",
      "metadata": {
        "id": "cGnKepek7CN6"
      },
      "source": [
        "for i in range(len(float_list)):\n",
        "    print(float_list[i])"
      ],
      "execution_count": null,
      "outputs": []
    },
    {
      "cell_type": "markdown",
      "metadata": {
        "id": "OlYoqinq7CN8"
      },
      "source": [
        "What if you wanted the index as well?"
      ]
    },
    {
      "cell_type": "markdown",
      "metadata": {
        "id": "mimn1-lk7CN8"
      },
      "source": [
        "Use the built-in python method `enumerate`,  which can be used to create a list of tuples with each tuple of the form `(index, value)`. "
      ]
    },
    {
      "cell_type": "code",
      "metadata": {
        "scrolled": true,
        "id": "OCaJd85j7CN8"
      },
      "source": [
        "for i, ele in enumerate(float_list):\n",
        "    print(i,ele)"
      ],
      "execution_count": null,
      "outputs": []
    },
    {
      "cell_type": "code",
      "metadata": {
        "id": "03QSWe7j7CN-"
      },
      "source": [
        "# or make a list from it using the list constructor\n",
        "list(enumerate(float_list))"
      ],
      "execution_count": null,
      "outputs": []
    },
    {
      "cell_type": "markdown",
      "metadata": {
        "id": "VvF9TmfR7COA"
      },
      "source": [
        "### Appending and deleting"
      ]
    },
    {
      "cell_type": "markdown",
      "metadata": {
        "id": "mkHVIVHL7COA"
      },
      "source": [
        "We can also append items to the end of the list using the `+` operator or with `append`."
      ]
    },
    {
      "cell_type": "code",
      "metadata": {
        "id": "Sn0kL40f7COA"
      },
      "source": [
        "float_list + [.333]"
      ],
      "execution_count": null,
      "outputs": []
    },
    {
      "cell_type": "code",
      "metadata": {
        "id": "B98e81FV7COC"
      },
      "source": [
        "float_list.append(.444)"
      ],
      "execution_count": null,
      "outputs": []
    },
    {
      "cell_type": "code",
      "metadata": {
        "id": "fX4-P_LI7COE"
      },
      "source": [
        "print(float_list)\n",
        "len(float_list)"
      ],
      "execution_count": null,
      "outputs": []
    },
    {
      "cell_type": "markdown",
      "metadata": {
        "id": "FqNKAMks7COG"
      },
      "source": [
        "Go and run the cell with `float_list.append` a second time.  Then run the next line.  What happens?  \n",
        "\n",
        "To remove an item from the list, use `del.`"
      ]
    },
    {
      "cell_type": "code",
      "metadata": {
        "id": "_EdaAXlR7COG"
      },
      "source": [
        "del(float_list[2])\n",
        "print(float_list)"
      ],
      "execution_count": null,
      "outputs": []
    },
    {
      "cell_type": "markdown",
      "metadata": {
        "id": "-Cfw0gox7COI"
      },
      "source": [
        "### List Comprehensions\n",
        "\n",
        "Lists can be constructed in a compact way using a *list comprehension*.  Here's a simple example."
      ]
    },
    {
      "cell_type": "code",
      "metadata": {
        "id": "IRmjLJRU7COI"
      },
      "source": [
        "squaredlist = [i*i for i in int_list]\n",
        "squaredlist"
      ],
      "execution_count": null,
      "outputs": []
    },
    {
      "cell_type": "markdown",
      "metadata": {
        "id": "ORf8vcUg7COK"
      },
      "source": [
        "And here's a more complicated one, requiring a conditional."
      ]
    },
    {
      "cell_type": "code",
      "metadata": {
        "id": "rUR2aWMX7COK"
      },
      "source": [
        "comp_list1 = [2*i for i in squaredlist if i % 2 == 0]\n",
        "print(comp_list1)"
      ],
      "execution_count": null,
      "outputs": []
    },
    {
      "cell_type": "markdown",
      "metadata": {
        "id": "ExhmZdbO7CON"
      },
      "source": [
        "This is entirely equivalent to creating `comp_list1` using a loop with a conditional, as below:"
      ]
    },
    {
      "cell_type": "code",
      "metadata": {
        "id": "v5jAnv_n7COO"
      },
      "source": [
        "comp_list2 = []\n",
        "for i in squaredlist:\n",
        "    if i % 2 == 0:\n",
        "        comp_list2.append(2*i)\n",
        "        \n",
        "print(comp_list2)"
      ],
      "execution_count": null,
      "outputs": []
    },
    {
      "cell_type": "markdown",
      "metadata": {
        "id": "wJs0nmFz7COQ"
      },
      "source": [
        "The list comprehension syntax\n",
        "\n",
        "```\n",
        "[expression for item in list if conditional]\n",
        "\n",
        "```\n",
        "\n",
        "is equivalent to the syntax\n",
        "\n",
        "```\n",
        "for item in list:\n",
        "    if conditional:\n",
        "        expression\n",
        "```"
      ]
    },
    {
      "cell_type": "markdown",
      "metadata": {
        "id": "ag9icGME7COV"
      },
      "source": [
        "## Part 3: Simple Functions\n",
        "\n",
        "A *function* object is a reusable block of code that does a specific task.  Functions are all over Python, either on their own or on other objects.  To invoke a function `func`, you call it as `func(arguments)`.\n",
        "\n",
        "We've seen built-in Python functions and methods.  For example, `len` and `print` are built-in Python functions.  And at the beginning, you called `np.mean` to calculate the mean of three numbers, where `mean` is a function in the numpy module and numpy was abbreviated as `np`. This syntax allows us to have multiple \"mean\" functions in different modules; calling this one as `np.mean` guarantees that we will pick up numpy's mean function, as opposed to a mean function from a different module.\n",
        "\n",
        "### Methods\n",
        "A function that belongs to an object is called a *method*. By \"object\" here we mean an \"instance\" of a list, or integer, or floating point variable.\n",
        "\n",
        "An example of this is `append` on an existing list. In other words, a *method* is a function on an *instance* of a type of object (also called *class*, in this case, list type).\n"
      ]
    },
    {
      "cell_type": "code",
      "metadata": {
        "id": "un7QbpD87COW"
      },
      "source": [
        "float_list = [1.0, 2.09, 4.0, 2.0, 0.444]\n",
        "print(float_list)\n",
        "float_list.append(56.7) \n",
        "float_list"
      ],
      "execution_count": null,
      "outputs": []
    },
    {
      "cell_type": "markdown",
      "metadata": {
        "id": "JJzP4P2o7COY"
      },
      "source": [
        "### User-defined functions\n",
        "\n",
        "We'll now learn to write our own user-defined functions.  Below is the syntax for defining a basic function with one input argument and one output. You can also define functions with no input or output arguments, or multiple input or output arguments.\n",
        "\n",
        "```\n",
        "def name_of_function(arg):\n",
        "    ...\n",
        "    return(output)\n",
        "```\n",
        "\n",
        "We can write functions with one input and one output argument.  Here are two such functions."
      ]
    },
    {
      "cell_type": "code",
      "metadata": {
        "id": "_kpbluPw7COY"
      },
      "source": [
        "def square(x):\n",
        "    x_sqr = x*x\n",
        "    return(x_sqr)\n",
        "\n",
        "def cube(x):\n",
        "    x_cub = x*x*x\n",
        "    return(x_cub)\n",
        "\n",
        "square(5),cube(5)"
      ],
      "execution_count": null,
      "outputs": []
    },
    {
      "cell_type": "markdown",
      "metadata": {
        "id": "Q0_ywxKe7COa"
      },
      "source": [
        "What if you want to return two variables at a time? The usual way is to return a tuple:"
      ]
    },
    {
      "cell_type": "code",
      "metadata": {
        "id": "wilv1two7COb"
      },
      "source": [
        "def square_and_cube(x):\n",
        "    x_cub = x*x*x\n",
        "    x_sqr = x*x\n",
        "    return(x_sqr, x_cub)\n",
        "\n",
        "square_and_cube(5)"
      ],
      "execution_count": null,
      "outputs": []
    },
    {
      "cell_type": "markdown",
      "metadata": {
        "id": "I-OQaRii7COd"
      },
      "source": [
        "### Lambda functions\n",
        "\n",
        "Often we quickly define mathematical functions with a one-line function called a *lambda* function.  Lambda functions are great because they enable us to write functions without having to name them, ie, they're *anonymous*.  \n",
        "No return statement is needed. \n"
      ]
    },
    {
      "cell_type": "code",
      "metadata": {
        "id": "M_-qRfpu7COd"
      },
      "source": [
        "# create an anonymous function and assign it to the variable square\n",
        "square = lambda x: x*x\n",
        "print(square(3))\n",
        "\n",
        "\n",
        "hypotenuse = lambda x, y: x*x + y*y\n",
        "\n",
        "## Same as\n",
        "\n",
        "# def hypotenuse(x, y):\n",
        "#     return(x*x + y*y)\n",
        "\n",
        "hypotenuse(3,4)"
      ],
      "execution_count": null,
      "outputs": []
    },
    {
      "cell_type": "markdown",
      "metadata": {
        "id": "qAyv8CAL7CPk"
      },
      "source": [
        "## Part 4: Additional support\n",
        "\n",
        "I would like to suggest using [Chris Albon's web site](https://chrisalbon.com) as a reference. Lots of useful information there."
      ]
    }
  ]
}